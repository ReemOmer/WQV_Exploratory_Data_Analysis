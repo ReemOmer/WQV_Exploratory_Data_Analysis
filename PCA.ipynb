{
 "cells": [
  {
   "cell_type": "code",
   "execution_count": null,
   "metadata": {
    "collapsed": false
   },
   "outputs": [],
   "source": [
    "#--- Importing libraries ---\n",
    "import warnings, datetime, csv,itertools, numpy as np, pandas as pd\n",
    "from sklearn.decomposition import PCA\n",
    "#--- To preventing warnings messages ---\n",
    "warnings.filterwarnings('ignore')"
   ]
  },
  {
   "cell_type": "code",
   "execution_count": null,
   "metadata": {
    "collapsed": false
   },
   "outputs": [],
   "source": [
    "#--- Read the file that contains the first 8 variables ---\n",
    "df = pd.read_csv('test.csv')\n",
    "df['datetime'] =  pd.to_datetime(df['datetime'], format='%Y-%m-%d')"
   ]
  },
  {
   "cell_type": "code",
   "execution_count": 49,
   "metadata": {
    "collapsed": false
   },
   "outputs": [],
   "source": [
    "#--- Water quality variables names in the csv file ---\n",
    "col = ['106595_62619_cd','106604_00010_cd','106605_00095_cd','106607_90860_cd','106608_00300_cd','106611_62361_cd','106615_99137_cd', '106616_00400_cd']"
   ]
  },
  {
   "cell_type": "code",
   "execution_count": 50,
   "metadata": {
    "collapsed": false
   },
   "outputs": [],
   "source": [
    "#--- Select only the variables columns ---\n",
    "df = np.array(df[col])"
   ]
  },
  {
   "cell_type": "code",
   "execution_count": 59,
   "metadata": {
    "collapsed": false
   },
   "outputs": [
    {
     "data": {
      "text/plain": [
       "array([[1.66e+00, 1.44e+01, 4.65e+04, ..., 3.40e+00, 2.10e-01, 7.60e+00],\n",
       "       [1.14e+00, 1.44e+01, 4.65e+04, ..., 4.10e+00, 2.80e-01, 7.60e+00],\n",
       "       [6.40e-01, 1.44e+01, 4.66e+04, ..., 3.90e+00, 2.20e-01, 7.60e+00],\n",
       "       ...,\n",
       "       [1.90e+00, 3.60e+00, 4.51e+04, ..., 9.50e+00, 4.40e-01, 7.90e+00],\n",
       "       [1.71e+00, 3.60e+00, 4.51e+04, ..., 1.00e+01, 2.10e-01, 7.90e+00],\n",
       "       [1.43e+00, 3.60e+00, 4.51e+04, ..., 1.00e+01, 3.80e-01, 7.90e+00]])"
      ]
     },
     "execution_count": 59,
     "metadata": {},
     "output_type": "execute_result"
    }
   ],
   "source": [
    "#--- Find and delete the NAN values in the file ---\n",
    "inds = np.where(np.isnan(df))\n",
    "badind = list(set(inds[0]))\n",
    "date_measurements = np.delete(df, ([i for i in badind]), axis=0)\n",
    "date_measurements"
   ]
  },
  {
   "cell_type": "code",
   "execution_count": 67,
   "metadata": {
    "collapsed": false
   },
   "outputs": [
    {
     "name": "stdout",
     "output_type": "stream",
     "text": [
      "[9.99689298e-01 2.84564008e-04 1.94714668e-05 6.08673470e-06\n",
      " 5.60707112e-07 1.26185699e-08 4.45152092e-09 2.00206103e-09]\n",
      "[2.77473414e+04 4.68143331e+02 1.22458290e+02 6.84669595e+01\n",
      " 2.07805429e+01 3.11741000e+00 1.85158249e+00 1.24173097e+00]\n"
     ]
    }
   ],
   "source": [
    "#--- Applying PCA function on the dataset using fit_transform function---\n",
    "pca = PCA()\n",
    "pca1 = pca.fit_transform(date_measurements)\n",
    "print(pca.explained_variance_ratio_)  \n",
    "print(pca.singular_values_)"
   ]
  }
 ],
 "metadata": {
  "kernelspec": {
   "display_name": "Python 3",
   "language": "python",
   "name": "python3"
  },
  "language_info": {
   "codemirror_mode": {
    "name": "ipython",
    "version": 3
   },
   "file_extension": ".py",
   "mimetype": "text/x-python",
   "name": "python",
   "nbconvert_exporter": "python",
   "pygments_lexer": "ipython3",
   "version": "3.5.3"
  }
 },
 "nbformat": 4,
 "nbformat_minor": 2
}
